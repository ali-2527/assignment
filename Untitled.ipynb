{
 "cells": [
  {
   "cell_type": "raw",
   "metadata": {},
   "source": []
  },
  {
   "cell_type": "code",
   "execution_count": 7,
   "metadata": {},
   "outputs": [
    {
     "data": {
      "text/plain": [
       "array([[168, 300, 255, 197, 360, 360, 492, 500, 225, 225],\n",
       "       [184, 273, 200, 252, 176, 286, 225, 225, 288, 175],\n",
       "       [350, 400, 182, 276, 582, 527, 678, 452, 504, 364],\n",
       "       [224, 224, 700, 900, 450, 681, 583, 526, 150, 246]])"
      ]
     },
     "execution_count": 7,
     "metadata": {},
     "output_type": "execute_result"
    }
   ],
   "source": [
    "import numpy as np\n",
    "import matplotlib.pyplot as plt\n",
    "import cv2\n",
    "import os\n",
    "img1 = cv2.imread(\"one.jfif\",0)\n",
    "img2 = cv2.imread(\"two.jfif\",0)\n",
    "img3 = cv2.imread(\"three.jfif\",0)\n",
    "img4 = cv2.imread(\"four.jfif\",0)\n",
    "img5 = cv2.imread(\"five.jfif\",0)\n",
    "img6 = cv2.imread(\"six.jfif\",0)\n",
    "img7 = cv2.imread(\"seven.jfif\",0)\n",
    "img8 = cv2.imread(\"eight.jfif\",0)\n",
    "img9 = cv2.imread(\"nine.jfif\",0)\n",
    "img10 = cv2.imread(\"ten.jfif\",0)\n",
    "img11 = cv2.imread(\"eleven.jpg\",0)\n",
    "img12 = cv2.imread(\"twelve.jpg\",0)\n",
    "img13 = cv2.imread(\"thirteen.jpg\",0)\n",
    "img14 = cv2.imread(\"fourteen.jpg\",0)\n",
    "img15 = cv2.imread(\"fifteen.jpg\",0)\n",
    "img16 = cv2.imread(\"sixteen.jpg\",0)\n",
    "img17 = cv2.imread(\"seventeen.jpg\",0)\n",
    "img18 = cv2.imread(\"eighteen.jpg\",0)\n",
    "img19 = cv2.imread(\"ninteen.jpg\",0)\n",
    "img20 = cv2.imread(\"twenty.jpg\",0)\n",
    "arr1 = np.array(img1.shape)\n",
    "arr2 = np.array(img2.shape)\n",
    "arr3 = np.array(img3.shape)\n",
    "arr4 = np.array(img4.shape)\n",
    "arr5 = np.array(img5.shape)\n",
    "arr6 = np.array(img6.shape)\n",
    "arr7 = np.array(img7.shape)\n",
    "arr8 = np.array(img8.shape)\n",
    "arr9 = np.array(img9.shape)\n",
    "arr10 = np.array(img10.shape)\n",
    "arr11 = np.array(img11.shape)\n",
    "arr12 = np.array(img12.shape)\n",
    "arr13 = np.array(img13.shape)\n",
    "arr14 = np.array(img14.shape)\n",
    "arr15 = np.array(img15.shape)\n",
    "arr16 = np.array(img16.shape)\n",
    "arr17 = np.array(img17.shape)\n",
    "arr18 = np.array(img18.shape)\n",
    "arr19 = np.array(img19.shape)\n",
    "arr20 = np.array(img20.shape)\n",
    "new = [[arr1],[arr2],[arr3],[arr4],[arr5],[arr6],[arr7],[arr8],[arr9],[arr10],[arr11],[arr12],[arr13],[arr14],[arr15],[arr16],[arr17],[arr18],[arr19],[arr20]]\n",
    "new = np.array(new)\n",
    "new.reshape(4,10)"
   ]
  },
  {
   "cell_type": "code",
   "execution_count": null,
   "metadata": {},
   "outputs": [],
   "source": []
  }
 ],
 "metadata": {
  "kernelspec": {
   "display_name": "Python 3",
   "language": "python",
   "name": "python3"
  },
  "language_info": {
   "codemirror_mode": {
    "name": "ipython",
    "version": 3
   },
   "file_extension": ".py",
   "mimetype": "text/x-python",
   "name": "python",
   "nbconvert_exporter": "python",
   "pygments_lexer": "ipython3",
   "version": "3.7.3"
  }
 },
 "nbformat": 4,
 "nbformat_minor": 2
}
